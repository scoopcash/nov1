{
 "cells": [
  {
   "cell_type": "markdown",
   "metadata": {},
   "source": [
    "### Execute the Numbers API for the number 42"
   ]
  },
  {
   "cell_type": "code",
   "execution_count": 4,
   "metadata": {},
   "outputs": [
    {
     "name": "stdout",
     "output_type": "stream",
     "text": [
      "{\n",
      "    \"text\": \"42 is the number of gallons that one barrel of petroleum holds.\",\n",
      "    \"number\": 42,\n",
      "    \"found\": true,\n",
      "    \"type\": \"trivia\"\n",
      "}\n"
     ]
    },
    {
     "data": {
      "text/plain": [
       "'42 is the number of gallons that one barrel of petroleum holds.'"
      ]
     },
     "execution_count": 4,
     "metadata": {},
     "output_type": "execute_result"
    }
   ],
   "source": [
    "import requests\n",
    "import json\n",
    "\n",
    "# Create parameterized url\n",
    "request_url = \"http://numbersapi.com/42?json\"\n",
    "\n",
    "# Submit request and format output\n",
    "response_data = requests.get(request_url).json()\n",
    "\n",
    "print(json.dumps(response_data, indent=4))\n",
    "\n",
    "# Select fact \n",
    "response_data['text']"
   ]
  },
  {
   "cell_type": "markdown",
   "metadata": {},
   "source": [
    "### Execute the Numbers API for the number 8"
   ]
  },
  {
   "cell_type": "code",
   "execution_count": 8,
   "metadata": {},
   "outputs": [
    {
     "data": {
      "text/plain": [
       "'8 is the number of planets in the Solar System.'"
      ]
     },
     "execution_count": 8,
     "metadata": {},
     "output_type": "execute_result"
    }
   ],
   "source": [
    "# Create parameterized url\n",
    "request_url = \"http://numbersapi.com/8?json\"\n",
    "\n",
    "# Submit request and format output\n",
    "response_data = requests.get(request_url).json()\n",
    "\n",
    "# Select fact\n",
    "response_data['text']"
   ]
  }
 ],
 "metadata": {
  "kernelspec": {
   "display_name": "Python 3.9.12 ('base')",
   "language": "python",
   "name": "python3"
  },
  "language_info": {
   "codemirror_mode": {
    "name": "ipython",
    "version": 3
   },
   "file_extension": ".py",
   "mimetype": "text/x-python",
   "name": "python",
   "nbconvert_exporter": "python",
   "pygments_lexer": "ipython3",
   "version": "3.9.12"
  },
  "vscode": {
   "interpreter": {
    "hash": "996ffda76004d767ccbaaba7e2437ee3b45ec97388b0612ddf8c69ff1d3b8680"
   }
  }
 },
 "nbformat": 4,
 "nbformat_minor": 2
}
